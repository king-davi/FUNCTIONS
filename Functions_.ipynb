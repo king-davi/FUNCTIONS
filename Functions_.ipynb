{
  "nbformat": 4,
  "nbformat_minor": 0,
  "metadata": {
    "colab": {
      "provenance": [],
      "authorship_tag": "ABX9TyPDScsj7vNOSglW+bFlZy3Q",
      "include_colab_link": true
    },
    "kernelspec": {
      "name": "python3",
      "display_name": "Python 3"
    },
    "language_info": {
      "name": "python"
    }
  },
  "cells": [
    {
      "cell_type": "markdown",
      "metadata": {
        "id": "view-in-github",
        "colab_type": "text"
      },
      "source": [
        "<a href=\"https://colab.research.google.com/github/king-davi/FUNCTIONS/blob/main/Functions_.ipynb\" target=\"_parent\"><img src=\"https://colab.research.google.com/assets/colab-badge.svg\" alt=\"Open In Colab\"/></a>"
      ]
    },
    {
      "cell_type": "code",
      "execution_count": null,
      "metadata": {
        "colab": {
          "base_uri": "https://localhost:8080/"
        },
        "id": "8eBPS8JaW4pn",
        "outputId": "22f7ed10-8452-4ace-de2e-dee1cd07c80b"
      },
      "outputs": [
        {
          "output_type": "stream",
          "name": "stdout",
          "text": [
            "35\n"
          ]
        }
      ],
      "source": [
        "# QUESTION 1\n",
        "# Write a Python function to find the largest (max) of three numbers.\n",
        "# For example, the max of these three numbers (20, 35, 19) is 35.\n",
        "def maxtwo(a,b) :\n",
        "    if x>y and if x>z  \n",
        "        return x\n",
        "    elif\n"
      ]
    },
    {
      "cell_type": "code",
      "source": [
        " # QUESTION 2\n",
        "# Write a function calculation() so it can accept two variables and calculate the addition and subtraction of them.\n",
        "#  It must return both addition and subtraction in a single return call.\n",
        "  # For example:\n",
        "# calculation(40, 10) should produce 50, 30\n",
        "def add_two_numbers ():\n",
        "    num_one = 40\n",
        "    num_two = 10\n",
        "    total = num_one + num_two\n",
        "    return total\n",
        "print(add_two_numbers())\n",
        " def minus_two_numbers ():\n",
        "     num_one = 40\n",
        "    num_two = 10\n",
        "    total = num_one - num_two\n",
        "    return total \n",
        "    print(minus_two_numbers())"
      ],
      "metadata": {
        "id": "Pmf4YgVVlnzL"
      },
      "execution_count": null,
      "outputs": []
    },
    {
      "cell_type": "code",
      "source": [
        "def add_two_numbers ():\n",
        "    num_one = 40\n",
        "    num_two = 10\n",
        "    total = num_one + num_two\n",
        "    return total\n",
        "print(add_two_numbers())"
      ],
      "metadata": {
        "colab": {
          "base_uri": "https://localhost:8080/"
        },
        "id": "HWkEFmc_uLjZ",
        "outputId": "70384518-6e36-451e-c3d0-f64b8f016ed6"
      },
      "execution_count": null,
      "outputs": [
        {
          "output_type": "stream",
          "name": "stdout",
          "text": [
            "50\n"
          ]
        }
      ]
    }
  ]
}